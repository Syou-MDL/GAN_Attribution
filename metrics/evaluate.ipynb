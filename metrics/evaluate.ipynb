{
 "cells": [
  {
   "cell_type": "code",
   "execution_count": 5,
   "metadata": {},
   "outputs": [
    {
     "name": "stdout",
     "output_type": "stream",
     "text": [
      "2020-12-30 13:05:39.450416: I tensorflow/stream_executor/platform/default/dso_loader.cc:42] Successfully opened dynamic library libcudart.so.10.1\n",
      "createing graph...\n",
      "WARNING:tensorflow:From FID.py:56: FastGFile.__init__ (from tensorflow.python.platform.gfile) is deprecated and will be removed in a future version.\n",
      "Instructions for updating:\n",
      "Use tf.gfile.GFile.\n",
      "WARNING:tensorflow:From FID.py:57: The name tf.GraphDef is deprecated. Please use tf.compat.v1.GraphDef instead.\n",
      "\n",
      "2020-12-30 13:05:41.282914: W tensorflow/core/framework/op_def_util.cc:357] Op BatchNormWithGlobalNormalization is deprecated. It will cease to work in GraphDef version 9. Use tf.nn.batch_normalization().\n",
      "running graph...\n",
      "WARNING:tensorflow:From FID.py:226: The name tf.Session is deprecated. Please use tf.compat.v1.Session instead.\n",
      "\n",
      "2020-12-30 13:05:41.480275: I tensorflow/stream_executor/platform/default/dso_loader.cc:42] Successfully opened dynamic library libcuda.so.1\n",
      "2020-12-30 13:05:41.511155: I tensorflow/core/common_runtime/gpu/gpu_device.cc:1640] Found device 0 with properties: \n",
      "name: Tesla V100-SXM2-16GB major: 7 minor: 0 memoryClockRate(GHz): 1.53\n",
      "pciBusID: 0000:06:00.0\n",
      "2020-12-30 13:05:41.511180: I tensorflow/stream_executor/platform/default/dso_loader.cc:42] Successfully opened dynamic library libcudart.so.10.1\n",
      "2020-12-30 13:05:41.514293: I tensorflow/stream_executor/platform/default/dso_loader.cc:42] Successfully opened dynamic library libcublas.so.10\n",
      "2020-12-30 13:05:41.516620: I tensorflow/stream_executor/platform/default/dso_loader.cc:42] Successfully opened dynamic library libcufft.so.10\n",
      "2020-12-30 13:05:41.517215: I tensorflow/stream_executor/platform/default/dso_loader.cc:42] Successfully opened dynamic library libcurand.so.10\n",
      "2020-12-30 13:05:41.519446: I tensorflow/stream_executor/platform/default/dso_loader.cc:42] Successfully opened dynamic library libcusolver.so.10\n",
      "2020-12-30 13:05:41.520432: I tensorflow/stream_executor/platform/default/dso_loader.cc:42] Successfully opened dynamic library libcusparse.so.10\n",
      "2020-12-30 13:05:41.524216: I tensorflow/stream_executor/platform/default/dso_loader.cc:42] Successfully opened dynamic library libcudnn.so.7\n",
      "2020-12-30 13:05:41.526911: I tensorflow/core/common_runtime/gpu/gpu_device.cc:1763] Adding visible gpu devices: 0\n",
      "2020-12-30 13:05:41.536413: I tensorflow/core/platform/profile_utils/cpu_utils.cc:94] CPU Frequency: 2194945000 Hz\n",
      "2020-12-30 13:05:41.537014: I tensorflow/compiler/xla/service/service.cc:168] XLA service 0x1e00cc0 executing computations on platform Host. Devices:\n",
      "2020-12-30 13:05:41.537034: I tensorflow/compiler/xla/service/service.cc:175]   StreamExecutor device (0): <undefined>, <undefined>\n",
      "2020-12-30 13:05:41.687553: I tensorflow/compiler/xla/service/service.cc:168] XLA service 0x1e03610 executing computations on platform CUDA. Devices:\n",
      "2020-12-30 13:05:41.687583: I tensorflow/compiler/xla/service/service.cc:175]   StreamExecutor device (0): Tesla V100-SXM2-16GB, Compute Capability 7.0\n",
      "2020-12-30 13:05:41.689100: I tensorflow/core/common_runtime/gpu/gpu_device.cc:1640] Found device 0 with properties: \n",
      "name: Tesla V100-SXM2-16GB major: 7 minor: 0 memoryClockRate(GHz): 1.53\n",
      "pciBusID: 0000:06:00.0\n",
      "2020-12-30 13:05:41.689165: I tensorflow/stream_executor/platform/default/dso_loader.cc:42] Successfully opened dynamic library libcudart.so.10.1\n",
      "2020-12-30 13:05:41.689207: I tensorflow/stream_executor/platform/default/dso_loader.cc:42] Successfully opened dynamic library libcublas.so.10\n",
      "2020-12-30 13:05:41.689222: I tensorflow/stream_executor/platform/default/dso_loader.cc:42] Successfully opened dynamic library libcufft.so.10\n",
      "2020-12-30 13:05:41.689236: I tensorflow/stream_executor/platform/default/dso_loader.cc:42] Successfully opened dynamic library libcurand.so.10\n",
      "2020-12-30 13:05:41.689250: I tensorflow/stream_executor/platform/default/dso_loader.cc:42] Successfully opened dynamic library libcusolver.so.10\n",
      "2020-12-30 13:05:41.689264: I tensorflow/stream_executor/platform/default/dso_loader.cc:42] Successfully opened dynamic library libcusparse.so.10\n",
      "2020-12-30 13:05:41.689279: I tensorflow/stream_executor/platform/default/dso_loader.cc:42] Successfully opened dynamic library libcudnn.so.7\n",
      "2020-12-30 13:05:41.691932: I tensorflow/core/common_runtime/gpu/gpu_device.cc:1763] Adding visible gpu devices: 0\n",
      "2020-12-30 13:05:41.691964: I tensorflow/stream_executor/platform/default/dso_loader.cc:42] Successfully opened dynamic library libcudart.so.10.1\n",
      "2020-12-30 13:05:41.938337: I tensorflow/core/common_runtime/gpu/gpu_device.cc:1181] Device interconnect StreamExecutor with strength 1 edge matrix:\n",
      "2020-12-30 13:05:41.938382: I tensorflow/core/common_runtime/gpu/gpu_device.cc:1187]      0 \n",
      "2020-12-30 13:05:41.938390: I tensorflow/core/common_runtime/gpu/gpu_device.cc:1200] 0:   N \n",
      "2020-12-30 13:05:41.941345: I tensorflow/core/common_runtime/gpu/gpu_device.cc:1326] Created TensorFlow device (/job:localhost/replica:0/task:0/device:GPU:0 with 14967 MB memory) -> physical GPU (device: 0, name: Tesla V100-SXM2-16GB, pci bus id: 0000:06:00.0, compute capability: 7.0)\n",
      "WARNING:tensorflow:From FID.py:227: The name tf.global_variables_initializer is deprecated. Please use tf.compat.v1.global_variables_initializer instead.\n",
      "\n",
      "calculate m1,s1\n",
      "Propagating batch 1/2002020-12-30 13:05:59.373932: I tensorflow/stream_executor/platform/default/dso_loader.cc:42] Successfully opened dynamic library libcudnn.so.7\n",
      "2020-12-30 13:06:00.483323: I tensorflow/stream_executor/platform/default/dso_loader.cc:42] Successfully opened dynamic library libcublas.so.10\n",
      "Propagating batch 200/200 done\n",
      "calculate m2,s2\n",
      "Propagating batch 200/200 done\n",
      "FID:  15.108689105168098\n"
     ]
    }
   ],
   "source": [
    "!python FID.py '../datasets/celeba_10k_png/' '../gen/celeba_v0/' -i '../result/_inception_fid/' --gpu 0"
   ]
  },
  {
   "cell_type": "code",
   "execution_count": null,
   "metadata": {},
   "outputs": [],
   "source": [
    "!python FID.py '../../DCGAN/celeba/' '../gen/noise10_50x1k/' -i '../result/_inception_fid/' --gpu 0"
   ]
  },
  {
   "cell_type": "code",
   "execution_count": null,
   "metadata": {},
   "outputs": [],
   "source": [
    "from metrics.FID import *\n",
    "inception_path='../result/_inception_fid/' \n",
    "print(\"createing graph...\")\n",
    "create_inception_graph(str(inception_path))\n",
    "print(\"running graph...\")\n",
    "with tf.Session() as sess:\n",
    "    sess.run(tf.global_variables_initializer())\n",
    "    print(\"calculate m1,s1\")\n",
    "    m1, s1 = _handle_path(paths[0], sess)\n",
    "    np.savez('celeba_10k_png.npy')\n",
    "#         np.save(s1,'celeba_s')\n",
    "    print(\"calculate m2,s2\")\n",
    "    m2, s2 = _handle_path(paths[1], sess)\n",
    "    fid_value = calculate_frechet_distance(m1, s1, m2, s2)\n",
    "    return fid_value"
   ]
  }
 ],
 "metadata": {
  "kernelspec": {
   "display_name": "Python 3",
   "language": "python",
   "name": "python3"
  },
  "language_info": {
   "codemirror_mode": {
    "name": "ipython",
    "version": 3
   },
   "file_extension": ".py",
   "mimetype": "text/x-python",
   "name": "python",
   "nbconvert_exporter": "python",
   "pygments_lexer": "ipython3",
   "version": "3.6.8"
  }
 },
 "nbformat": 4,
 "nbformat_minor": 2
}
